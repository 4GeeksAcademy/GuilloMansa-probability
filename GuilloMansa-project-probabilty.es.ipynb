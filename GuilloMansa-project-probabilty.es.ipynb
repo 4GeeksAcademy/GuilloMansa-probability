{
 "cells": [
  {
   "cell_type": "markdown",
   "id": "a41f3622",
   "metadata": {},
   "source": [
    "# Ejercicios de probabilidad"
   ]
  },
  {
   "cell_type": "code",
   "execution_count": 2,
   "id": "a327a73d690229d3",
   "metadata": {},
   "outputs": [],
   "source": [
    "import random\n",
    "import numpy as np"
   ]
  },
  {
   "cell_type": "markdown",
   "id": "a6bdbd89",
   "metadata": {},
   "source": [
    "## Ejercicio 1 \n",
    "\n",
    "Dos dados se lanzan una vez y se observa el total obtenido. Usa una simulación para encontrar la probabilidad estimada de que la puntuación sea mayor a 7 o un número par. Una simulación es una repetición del mismo experimento multiples veces para observar su comportamiento:\n",
    "\n",
    "- Ejecuta el experimento 1000 veces (lanza 2 dados 1000 veces, y suma el número de ambos dados).\n",
    "- Lleva ua cuenta de los números y las veces que la suma fue mayor a 7 o un número par.\n",
    "- Divide el número del paso 2 entre el número de iteraciones(1000).\n",
    "- Escribe tus observaciones o conclusiones"
   ]
  },
  {
   "cell_type": "code",
   "execution_count": 113,
   "id": "8939d892",
   "metadata": {},
   "outputs": [
    {
     "data": {
      "text/plain": [
       "'Probabilidad estimada: 0.665'"
      ]
     },
     "execution_count": 113,
     "metadata": {},
     "output_type": "execute_result"
    }
   ],
   "source": [
    "n = 1000\n",
    "lanzam = 0\n",
    "\n",
    "for _ in range(1000):\n",
    "    dice_one = random.randint(1,6)\n",
    "    dice_two = random.randint(1,6)\n",
    "    suma = dice_one + dice_two\n",
    "\n",
    "    if suma > 7 or suma % 2 == 0:\n",
    "        lanzam += 1\n",
    "        \n",
    "prob = lanzam / n\n",
    "f\"Probabilidad estimada: {prob}\""
   ]
  },
  {
   "cell_type": "markdown",
   "id": "5ddd5970",
   "metadata": {},
   "source": [
    "#### La probabilidad estimada ronda el 65–67%, cuanto mayor es la cantidad de simulaciones mas pequeño es el margen del error. ####"
   ]
  },
  {
   "cell_type": "markdown",
   "id": "55732bca",
   "metadata": {},
   "source": [
    "## Ejercicio 2\n",
    "\n",
    "Una caja contiene 10 bolas blancas, 20 bolas rojas y 30 bolas verdes. Si tomamos 5 bolas de la caja reemplazándolas (tomando una bola, anotando el color y luego regresandola a la caja). Queremos saber la probabilidad de:\n",
    "\n",
    "1. Tomar 3 blancas y 2 rojas.\n",
    "2. Toas todas del mismo color.\n",
    "\n",
    "- Ejecuta el experimento 1000 veces y calcula las probabilidades que mencionadas.\n",
    "- Escribe tus observaciones o conclusiones"
   ]
  },
  {
   "cell_type": "code",
   "execution_count": 226,
   "id": "912f5a80",
   "metadata": {},
   "outputs": [
    {
     "data": {
      "text/plain": [
       "'Probabilidad de tomar todas del mismo color: 0.044'"
      ]
     },
     "execution_count": 226,
     "metadata": {},
     "output_type": "execute_result"
    }
   ],
   "source": [
    "prob_blanca = 10 / 60\n",
    "prob_roja = 20 / 60\n",
    "prob_verde = 30 / 60\n",
    "\n",
    "exp = 1000\n",
    "contador_tresb_dosr = 0\n",
    "mismocolor = 0\n",
    "\n",
    "for _ in range(exp):\n",
    "    muestra = []\n",
    "    for _ in range(5):\n",
    "        r = random.random()\n",
    "        if r < prob_blanca:\n",
    "            muestra.append('blanca')\n",
    "        elif r < prob_blanca + prob_roja:\n",
    "            muestra.append('roja')\n",
    "        else:\n",
    "            muestra.append('verde')\n",
    "    \n",
    "    blancas = muestra.count('blanca')\n",
    "    rojas = muestra.count('roja')\n",
    "    verdes = muestra.count('verde')\n",
    "    \n",
    "    if blancas == 3 and rojas == 2:\n",
    "        contador_tresb_dosr += 1\n",
    "    if blancas == 5 or rojas == 5 or verdes == 5:\n",
    "        mismocolor += 1\n",
    "\n",
    "prob_tresb_dosr = contador_tresb_dosr / exp\n",
    "prob_mismocolor = mismocolor / exp\n",
    "\n",
    "f\"Probabilidad de tomar 3 blancas y 2 rojas: {prob_tresb_dosr}\"\n",
    "f\"Probabilidad de tomar todas del mismo color: {prob_mismocolor}\"\n",
    "\n"
   ]
  },
  {
   "cell_type": "markdown",
   "id": "ebb0aa9f",
   "metadata": {},
   "source": [
    "#### *Observacion*: es muy baja la probabilidad de sacar 3 blancas y 2 rojas, debido a que hay pocas bolas blancas para el total. Ttambien es baja la probabilidad de sacar 5 bolas iguales. Sobre todo las blancas ####"
   ]
  }
 ],
 "metadata": {
  "kernelspec": {
   "display_name": "Python 3",
   "language": "python",
   "name": "python3"
  },
  "language_info": {
   "codemirror_mode": {
    "name": "ipython",
    "version": 3
   },
   "file_extension": ".py",
   "mimetype": "text/x-python",
   "name": "python",
   "nbconvert_exporter": "python",
   "pygments_lexer": "ipython3",
   "version": "3.11.4"
  }
 },
 "nbformat": 4,
 "nbformat_minor": 5
}
